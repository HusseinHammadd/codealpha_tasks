{
 "cells": [
  {
   "cell_type": "markdown",
   "id": "dbfbbd67",
   "metadata": {},
   "source": [
    "You can find the dataset (here)[https://www.kaggle.com/datasets/putdejudomthai/ecommerce-ab-testing-2022-dataset1/data] on Kaggle"
   ]
  },
  {
   "cell_type": "code",
   "execution_count": 1,
   "id": "7f836760",
   "metadata": {},
   "outputs": [],
   "source": [
    "# Importing necessary libraries\n",
    "\n",
    "import pandas as pd\n",
    "from scipy.stats import shapiro, levene, mannwhitneyu\n",
    "import warnings\n",
    "warnings.filterwarnings('ignore')"
   ]
  },
  {
   "cell_type": "code",
   "execution_count": 2,
   "id": "7a10fd88",
   "metadata": {},
   "outputs": [],
   "source": [
    "# Loading the dataset\n",
    "\n",
    "df = pd.read_csv('ab_data.csv')"
   ]
  },
  {
   "cell_type": "code",
   "execution_count": 3,
   "id": "97cfc491",
   "metadata": {},
   "outputs": [
    {
     "name": "stdout",
     "output_type": "stream",
     "text": [
      "First few rows of the dataset:\n",
      "   user_id timestamp      group landing_page  converted\n",
      "0   851104   11:48.6    control     old_page          0\n",
      "1   804228   01:45.2    control     old_page          0\n",
      "2   661590   55:06.2  treatment     new_page          0\n",
      "3   853541   28:03.1  treatment     new_page          0\n",
      "4   864975   52:26.2    control     old_page          1\n"
     ]
    }
   ],
   "source": [
    "# EDA\n",
    "# Displaying the first few rows of the dataset\n",
    "\n",
    "print(\"First few rows of the dataset:\")\n",
    "print(df.head())"
   ]
  },
  {
   "cell_type": "code",
   "execution_count": 4,
   "id": "1f5e426d",
   "metadata": {},
   "outputs": [
    {
     "name": "stdout",
     "output_type": "stream",
     "text": [
      "\n",
      "Information about the dataset:\n",
      "<class 'pandas.core.frame.DataFrame'>\n",
      "RangeIndex: 294480 entries, 0 to 294479\n",
      "Data columns (total 5 columns):\n",
      " #   Column        Non-Null Count   Dtype \n",
      "---  ------        --------------   ----- \n",
      " 0   user_id       294480 non-null  int64 \n",
      " 1   timestamp     294480 non-null  object\n",
      " 2   group         294480 non-null  object\n",
      " 3   landing_page  294480 non-null  object\n",
      " 4   converted     294480 non-null  int64 \n",
      "dtypes: int64(2), object(3)\n",
      "memory usage: 11.2+ MB\n",
      "None\n"
     ]
    }
   ],
   "source": [
    "# Displaying information about the dataset\n",
    "\n",
    "print(\"\\nInformation about the dataset:\")\n",
    "print(df.info())"
   ]
  },
  {
   "cell_type": "code",
   "execution_count": 5,
   "id": "44a00614",
   "metadata": {},
   "outputs": [
    {
     "name": "stdout",
     "output_type": "stream",
     "text": [
      "\n",
      "Number of missing values in each column:\n",
      "user_id         0\n",
      "timestamp       0\n",
      "group           0\n",
      "landing_page    0\n",
      "converted       0\n",
      "dtype: int64\n"
     ]
    }
   ],
   "source": [
    "# Checking for missing values\n",
    "\n",
    "print(\"\\nNumber of missing values in each column:\")\n",
    "print(df.isnull().sum())"
   ]
  },
  {
   "cell_type": "code",
   "execution_count": 6,
   "id": "37ddbc76",
   "metadata": {},
   "outputs": [],
   "source": [
    "# Dropping duplicate entries based on 'user_id'\n",
    "\n",
    "df = df.drop_duplicates(subset='user_id', keep=False)"
   ]
  },
  {
   "cell_type": "code",
   "execution_count": 7,
   "id": "3f16a585",
   "metadata": {},
   "outputs": [
    {
     "name": "stdout",
     "output_type": "stream",
     "text": [
      "\n",
      "Shape of the dataset after removing duplicates:\n",
      "(286690, 5)\n"
     ]
    }
   ],
   "source": [
    "# Displaying the shape of the dataset after removing duplicates\n",
    "\n",
    "print(\"\\nShape of the dataset after removing duplicates:\")\n",
    "print(df.shape)"
   ]
  },
  {
   "cell_type": "code",
   "execution_count": 8,
   "id": "fde0e75c",
   "metadata": {},
   "outputs": [
    {
     "name": "stdout",
     "output_type": "stream",
     "text": [
      "\n",
      "Counts of landing page by group:\n",
      "group      landing_page\n",
      "control    old_page        143293\n",
      "treatment  new_page        143397\n",
      "dtype: int64\n"
     ]
    }
   ],
   "source": [
    "# Grouping data by 'group' and 'landing_page' and count occurrences\n",
    "\n",
    "landing_page_counts = df.groupby(['group', 'landing_page']).size()\n",
    "print(\"\\nCounts of landing page by group:\")\n",
    "print(landing_page_counts)"
   ]
  },
  {
   "cell_type": "code",
   "execution_count": 9,
   "id": "f55ec677",
   "metadata": {},
   "outputs": [
    {
     "name": "stdout",
     "output_type": "stream",
     "text": [
      "\n",
      "Conversion rate by group and landing page:\n",
      "group      landing_page\n",
      "control    old_page        0.120173\n",
      "treatment  new_page        0.118726\n",
      "Name: converted, dtype: float64\n"
     ]
    }
   ],
   "source": [
    "# Calculating conversion rate by group and landing page\n",
    "\n",
    "conversion_rate = df.groupby(['group', 'landing_page'])['converted'].mean()\n",
    "print(\"\\nConversion rate by group and landing page:\")\n",
    "print(conversion_rate)"
   ]
  },
  {
   "cell_type": "code",
   "execution_count": 10,
   "id": "5dfc283e",
   "metadata": {},
   "outputs": [
    {
     "name": "stdout",
     "output_type": "stream",
     "text": [
      "\n",
      "Percentage of each landing page:\n",
      "new_page    50.018138\n",
      "old_page    49.981862\n",
      "Name: landing_page, dtype: float64\n"
     ]
    }
   ],
   "source": [
    "# Calculating the percentage of each landing page type\n",
    "\n",
    "landing_page_percentage = df['landing_page'].value_counts(normalize=True) * 100\n",
    "print(\"\\nPercentage of each landing page:\")\n",
    "print(landing_page_percentage)"
   ]
  },
  {
   "cell_type": "code",
   "execution_count": 11,
   "id": "45a58843",
   "metadata": {},
   "outputs": [
    {
     "name": "stdout",
     "output_type": "stream",
     "text": [
      "\n",
      "Inconsistent entries:\n",
      "Empty DataFrame\n",
      "Columns: [user_id, timestamp, group, landing_page, converted]\n",
      "Index: []\n"
     ]
    }
   ],
   "source": [
    "# Filtering out inconsistent group-landing_page combinations\n",
    "\n",
    "inconsistent_entries = df[((df['group'] == 'control') & (df['landing_page'] == 'new_page')) |\n",
    "                          ((df['group'] == 'treatment') & (df['landing_page'] == 'old_page'))]\n",
    "print(\"\\nInconsistent entries:\")\n",
    "print(inconsistent_entries)"
   ]
  },
  {
   "cell_type": "code",
   "execution_count": 12,
   "id": "a990045a",
   "metadata": {},
   "outputs": [
    {
     "name": "stdout",
     "output_type": "stream",
     "text": [
      "\n",
      "Shapiro-Wilk test for normality assumption:\n",
      "Old page - p-value: 0.0 Test stat: 0.3792334198951721\n",
      "New page - p-value: 0.0 Test stat: 0.37685757875442505\n"
     ]
    }
   ],
   "source": [
    "# Performing A/B Testing\n",
    "# Shapiro-Wilk test for normality assumptions\n",
    "\n",
    "shapiro_old_page = shapiro(df.loc[df[\"landing_page\"] == \"old_page\", \"converted\"])\n",
    "shapiro_new_page = shapiro(df.loc[df[\"landing_page\"] == \"new_page\", \"converted\"])\n",
    "print(\"\\nShapiro-Wilk test for normality assumption:\")\n",
    "print(\"Old page - p-value:\", shapiro_old_page.pvalue, \"Test stat:\", shapiro_old_page.statistic)\n",
    "print(\"New page - p-value:\", shapiro_new_page.pvalue, \"Test stat:\", shapiro_new_page.statistic)"
   ]
  },
  {
   "cell_type": "code",
   "execution_count": 13,
   "id": "d9839f69",
   "metadata": {},
   "outputs": [
    {
     "name": "stdout",
     "output_type": "stream",
     "text": [
      "\n",
      "Levene's test for variance homogeneity:\n",
      "p-value: 0.2322897281547632 Test stat: 1.4267917566652295\n"
     ]
    }
   ],
   "source": [
    "# Levene's test for variance homogeneity\n",
    "\n",
    "levene_test = levene(df.loc[df[\"landing_page\"] == \"new_page\", \"converted\"],\n",
    "                     df.loc[df[\"landing_page\"] == \"old_page\", \"converted\"])\n",
    "print(\"\\nLevene's test for variance homogeneity:\")\n",
    "print(\"p-value:\", levene_test.pvalue, \"Test stat:\", levene_test.statistic)"
   ]
  },
  {
   "cell_type": "code",
   "execution_count": 14,
   "id": "4d684f4c",
   "metadata": {},
   "outputs": [
    {
     "name": "stdout",
     "output_type": "stream",
     "text": [
      "\n",
      "Mann-Whitney U test results:\n",
      "Test Stat = 10259026653.0000, p-value = 0.2323\n"
     ]
    }
   ],
   "source": [
    "# Performing Mann-Whitney U test for hypothesis testing\n",
    "\n",
    "test_stat, pvalue = mannwhitneyu(df.loc[df[\"landing_page\"] == \"new_page\", \"converted\"],\n",
    "                                  df.loc[df[\"landing_page\"] == \"old_page\", \"converted\"])\n",
    "print(\"\\nMann-Whitney U test results:\")\n",
    "print('Test Stat = %.4f, p-value = %.4f' % (test_stat, pvalue))"
   ]
  },
  {
   "cell_type": "code",
   "execution_count": 15,
   "id": "4fe3c577",
   "metadata": {},
   "outputs": [
    {
     "name": "stdout",
     "output_type": "stream",
     "text": [
      "\n",
      "Fail to reject the null hypothesis. There is no statistically significant difference between the old and new pages.\n",
      "The new page does not bring profit.\n"
     ]
    }
   ],
   "source": [
    "# Interpreting the results\n",
    "\n",
    "alpha = 0.05\n",
    "if pvalue < alpha:\n",
    "    print(\"\\nReject the null hypothesis. There is a statistically significant difference between the old and new pages.\")\n",
    "    print(\"The new page brings profit.\")\n",
    "else:\n",
    "    print(\"\\nFail to reject the null hypothesis. There is no statistically significant difference between the old and new pages.\")\n",
    "    print(\"The new page does not bring profit.\")"
   ]
  },
  {
   "cell_type": "code",
   "execution_count": null,
   "id": "6331ee2b",
   "metadata": {},
   "outputs": [],
   "source": []
  }
 ],
 "metadata": {
  "kernelspec": {
   "display_name": "Python 3 (ipykernel)",
   "language": "python",
   "name": "python3"
  },
  "language_info": {
   "codemirror_mode": {
    "name": "ipython",
    "version": 3
   },
   "file_extension": ".py",
   "mimetype": "text/x-python",
   "name": "python",
   "nbconvert_exporter": "python",
   "pygments_lexer": "ipython3",
   "version": "3.10.9"
  }
 },
 "nbformat": 4,
 "nbformat_minor": 5
}
